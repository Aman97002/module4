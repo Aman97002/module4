{
  "nbformat": 4,
  "nbformat_minor": 0,
  "metadata": {
    "colab": {
      "provenance": []
    },
    "kernelspec": {
      "name": "python3",
      "display_name": "Python 3"
    },
    "language_info": {
      "name": "python"
    }
  },
  "cells": [
    {
      "cell_type": "markdown",
      "source": [
        "Question no.1"
      ],
      "metadata": {
        "id": "bEFVf9PZNS8D"
      }
    },
    {
      "cell_type": "code",
      "execution_count": null,
      "metadata": {
        "id": "P9sO1YTeM_gp"
      },
      "outputs": [],
      "source": [
        "'''question no.1'''\n",
        "<html>\n",
        "    <head>\n",
        "        <title>aman_M4</title>\n",
        "        <body>\n",
        "            <div style=\"border: solid;\" >\n",
        "                <p>\n",
        "                    <b>This text  will be bold.</b>\n",
        "                </p>\n",
        "                <p>\n",
        "                    <i>This text will be italic.</i>\n",
        "                </p>\n",
        "                <p>\n",
        "                    <u>This text will be underlined.</u>\n",
        "                </p>\n",
        "                <p>\n",
        "                    <mark> This text will be highlighted.</mark>\n",
        "                </p>\n",
        "                <p>\n",
        "                    This is normal text.<sup>this is superscript.</sup>This is again normal .\n",
        "                    </p>\n",
        "                    <p>This is normal text.<sub>this is subscripted.</sub></p>\n",
        "                    <p>Normal Text.<small> Small text.</small></p><p><del>This text will be deleted.</del></p>\n",
        "            </div>\n",
        "        </body>\n",
        "    </head>\n",
        "</html>"
      ]
    },
    {
      "cell_type": "markdown",
      "source": [
        "question no.2"
      ],
      "metadata": {
        "id": "SNNkDzEjNiP3"
      }
    },
    {
      "cell_type": "code",
      "source": [
        "<html>\n",
        "    <head>\n",
        "        <title>aman_M4</title>\n",
        "        </head>\n",
        "        <body>\n",
        "            <div style=\"border: solid;\" >\n",
        "                <h1><b>Navigate me :</b></h1>\n",
        "                <p>take me to<a href=\"https://pwskills.com/\">pwskills</a>to buy a course. </p>\n",
        "                <p>take me to<a href=\"https://developer.mozilla.org/en-US/\">MDN Docs</a> to know more about web development. </p>\n",
        "                <p>take me to <a href=\"https://pwskills.com/\">PW Labs</a> to practice live coding.</p>\n",
        "                </div>\n",
        "                </body>\n",
        "                </html>"
      ],
      "metadata": {
        "id": "_LXLfY8NNws7"
      },
      "execution_count": null,
      "outputs": []
    },
    {
      "cell_type": "markdown",
      "source": [
        "Question no-3"
      ],
      "metadata": {
        "id": "GycJBnm1N3IL"
      }
    },
    {
      "cell_type": "code",
      "source": [
        "<!DOCTYPE html>\n",
        "<html lang=\\\"en\\\">\n",
        "<head>\n",
        "       <meta charset=\\\"UTF-8\\\">\n",
        "    <meta name=\\\"viewport\\\" content=\\\"width=device-width, initial-scale=1.0\\\">\n",
        "       <title>Document</title>\n",
        "    <style>\n",
        "           nav a {\n",
        "          margin-right: 15px;\n",
        "           }\n",
        "         </style>\n",
        "</head>\n",
        "<body>\n",
        "    <nav>\n",
        "        <a href=\\\"index.html\\\">Home</a>\n",
        "        <a href=\\\"web dev.html\\\">Web Development</a>\n",
        "        <a href=\\\"web design.html\\\">Web Design</a>\n",
        "      </nav>\n",
        "      <h1>Welcome to My Blog</h1>\n",
        "    <p>Hi! I'm Aman Srivastava, a passionate web enthusiast learners how to build websites.\n",
        "        This blog is my little corner of the internet where\n",
        "         I share my thoughts and experiences on web development and design.\n",
        "    </p>\n",
        "</body>\n",
        "</html>\n",
        "\n",
        "    <!-- Question No-3 This is the second page of the web page.-->\n",
        "\n",
        "    <!DOCTYPE html>\n",
        "    <html lang=\\\"en\\\">\n",
        "    <head>\n",
        "        <meta charset=\\\"UTF-8\\\">\n",
        "        <meta name=\\\"viewport\\\" content=\\\"width=device-width, initial-scale=1.0\\\">\n",
        "        <title>Document</title>\n",
        "        <style>\n",
        "            nav a {\n",
        "              margin-right: 15px;\n",
        "            }\n",
        "          </style>\n",
        "    </head>\n",
        "    <body>\n",
        "        <nav>\n",
        "            <a href=\\\"index.html\\\">Home</a>\n",
        "            <a href=\\\"web dev.html\\\">Web Development</a>\n",
        "            <a href=\\\"web design.html\\\">Web Design</a>\n",
        "          </nav>\n",
        "          <h1>Web Design</h1>\n",
        "          <p>Web design focuses on the aesthetics and usability of websites.\n",
        "             Good design makes a site attractive and user-friendly,\n",
        "             using layout, colors, fonts, and images effectively.\n",
        "           </p>\n",
        "    </body>\n",
        "    </html>\n",
        "\n",
        "    <!-- Question No-3 This is the Third page of the web page.-->\n",
        "\n",
        "    <!DOCTYPE html>\n",
        "    <html lang=\\\"en\\\">\n",
        "    <head>\n",
        "        <meta charset=\\\"UTF-8\\\">\n",
        "        <meta name=\\\"viewport\\\" content=\\\"width=device-width, initial-scale=1.0\\\">\n",
        "        <title>Document</title>\n",
        "        <style>\n",
        "        nav a {\n",
        "           margin-right: 15px;\n",
        "            text-decoration: none;\n",
        "          }\n",
        "        </style>\n",
        "    </head>\n",
        "    <body>\n",
        "        <nav>\n",
        "            <a href=\\\"index.html\\\">Home</a>\n",
        "            <a href=\\\"web dev.html\\\">Web Development</a>\n",
        "            <a href=\\\"web design.html\\\">Web Design</a>\n",
        "          </nav>\n",
        "          <h1>Web Development</h1>\n",
        "        <p>Web development is the process of building and maintaining websites.\n",
        "            It includes everything from writing code with HTML, CSS, and\n",
        "             JavaScript to working with databases and servers.\n",
        "        </p>\n",
        "    </body>\n",
        "    </html>\n"
      ],
      "metadata": {
        "id": "TYK2jIveN7lR"
      },
      "execution_count": null,
      "outputs": []
    },
    {
      "cell_type": "markdown",
      "source": [
        "question-4-"
      ],
      "metadata": {
        "id": "B6QryJXsONS4"
      }
    },
    {
      "cell_type": "code",
      "source": [
        "''' question no.4- Create an ordered list of HTML tags. Each list item must include the tag name and some information about\n",
        "the tag'''\n",
        "<html>\n",
        "    <head>\n",
        "        <title>aman_M4</title>\n",
        "        </head>\n",
        "        <body>\n",
        "            <div style=\"border: solid;\" >\n",
        "                <ol>\n",
        "                    <ol>\n",
        "                        <li><strong> html  </strong> : The root element that defines the beginning and end of an HTML document.</li>\n",
        "                        <li><strong> head  </strong> : Contains metadata about the HTML document, such as title, links to stylesheets, and scripts.</li>\n",
        "                        <li><strong> title  </strong> : Sets the title of the HTML page, which appears in the browser's title bar or tab.</li>\n",
        "                        <li><strong> body  </strong> : Encloses the visible content of the HTML document, such as text, images, and other elements.</li>\n",
        "                        <li><strong> h1   to  h6  </strong> : Header tags used to define headings, with  h1   being the most important and  h6   the least.</li>\n",
        "                        <li><strong> p  </strong> : Defines a paragraph of text.</li>\n",
        "                        <li><strong> a  </strong> : Defines a hyperlink that links to another page or resource.</li>\n",
        "                        <li><strong> img  </strong> : Embeds an image in the document using the `src` attribute to specify the image file.</li>\n",
        "                        <li><strong> ul  </strong> : Creates an unordered (bulleted) list.</li>\n",
        "                        <li><strong> ol  </strong> : Creates an ordered (numbered) list, like this one.</li>\n",
        "                        <li><strong> li  </strong> : Represents a list item and must be used inside  ul   or  ol   tags.</li>\n",
        "                        <li><strong> div  </strong> : A block-level container element used to group content for layout or styling purposes.</li>\n",
        "                        <li><strong> span  </strong> : An inline container used to group text or elements for styling.</li>\n",
        "                        <li><strong> form  </strong> : Defines an input form that can contain various form controls like text fields, checkboxes, and buttons.</li>\n",
        "                        <li><strong> input  </strong> : Represents an input field where the user can enter data.</li>\n",
        "                      </ol>\n",
        "\n",
        "                </ol>\n",
        "            </div>\n",
        "        </body>\n",
        "</html>\n"
      ],
      "metadata": {
        "id": "rm-heWrrOQLv"
      },
      "execution_count": null,
      "outputs": []
    },
    {
      "cell_type": "markdown",
      "source": [
        "Question 5"
      ],
      "metadata": {
        "id": "ZP1t2sxdOiXA"
      }
    },
    {
      "cell_type": "code",
      "source": [
        "'''J% Create a description list of full stack web development tech stack, using the <dl> tag. Each term should be\n",
        "a tech stack name and each description should be a brief explanation of what the tech stack is used for%'''\n",
        "<html>\n",
        "    <head>\n",
        "        <title>aman_M4</title>\n",
        "        </head>\n",
        "        <body>\n",
        "            <div style=\"border: solid;\" >\n",
        "                <dl>\n",
        "                    <dt>\n",
        "                        <strong>Full Stack Web Development</strong>\n",
        "                        <dd>\n",
        "                            Full stack web development refers to the development of both front-end and back-end parts of a web application. It involves working with databases, servers, and client-side technologies.\n",
        "                        </dd>\n",
        "                    </dt>\n",
        "                    <dt>\n",
        "                        <strong>Front-End Technologies</strong>\n",
        "                        <dd>\n",
        "                            Front-end technologies are used to create the user interface and user experience of a web application. This includes HTML, CSS, and JavaScript.\n",
        "                        </dd>\n",
        "                    </dt>\n",
        "                    <dt>\n",
        "                        <strong>Back-End Technologies</strong>\n",
        "                        <dd>\n",
        "                            Back-end technologies are used to manage the server-side of a web application. This includes server-side languages like Node.js, Python, Ruby, and databases like MySQL and MongoDB.\n",
        "                        </dd>\n",
        "                    </dt>\n",
        "</html>"
      ],
      "metadata": {
        "id": "pFIuVIL3OlHx"
      },
      "execution_count": null,
      "outputs": []
    },
    {
      "cell_type": "markdown",
      "source": [
        "Question 6"
      ],
      "metadata": {
        "id": "SWXxe9paTifN"
      }
    },
    {
      "cell_type": "code",
      "source": [
        "'''Ques 6- Create an ordered list of the full stack web development tech stack HTML, CSS, and JS. For each tech\n",
        "stack, create a table that lists the tech stack name, its primary use cases, and some key features or\n",
        "benefits. Below is a reference image.'''\n",
        "<html>\n",
        "    <head>\n",
        "\n",
        "        <title>aman_M4</title>\n",
        "\n",
        "        </head>\n",
        "\n",
        "        <body>\n",
        "\n",
        "            <div style=\"border: solid;\" >\n",
        "\n",
        "                <ol>\n",
        "\n",
        "                    <li><strong>HTML</strong></li>\n",
        "                    <table border=\"1\" cellpadding=\"2\" >\n",
        "                        <tr>\n",
        "                            <th style=\"width: 300px;\">Primary Use Cases</th>\n",
        "                            <th style=\"width: 300px;\">Key Features/Benefits</th>\n",
        "                        </tr>\n",
        "                        <tr>\n",
        "                            <td>\n",
        "                            building the structure of webpages.</td>\n",
        "\n",
        "                            <td><ul>\n",
        "                               <li> simple and easy to learn</li>\n",
        "                               <li>compaitable with all web browser</li>\n",
        "                               <li>allow for semantic markup</li>\n",
        "                            </ul></td>\n",
        "                        </tr>  </table>\n",
        "\n",
        "                        <li>CSS</li>\n",
        "                        <table border=\"1\" cellpadding=\"2\" >\n",
        "                            <tr>\n",
        "                                <th style=\"width: 300px;\">Primary Use Cases</th>\n",
        "                                <th style=\"width: 300px;\">Key Features/Benefits</th>\n",
        "                            </tr>\n",
        "                            <tr>\n",
        "                                <td>Styling and layout of webpages.</td>\n",
        "\n",
        "                               <td> <ul>\n",
        "\n",
        "                                    <li> Allow for separation of content and presentation</li>\n",
        "                                    <li>Enable Responsive design</li>\n",
        "                                    <li>Enable wide range of styling options</li>\n",
        "                                </ul>\n",
        "                            </td>\n",
        "                            </tr></table>\n",
        "\n",
        "\n",
        "                    <li>JavaScript</li>\n",
        "                    <table border=\"1\" cellpadding=\"2\" >\n",
        "                        <tr>\n",
        "                            <th style=\"width: 300px;\">Primary Use Cases</th>\n",
        "                            <th style=\"width: 300px;\">Key Features/Benefits</th>\n",
        "                        </tr>\n",
        "                        <tr>\n",
        "                            <td>Adding interactivity and dynamic content to webpages.</td>\n",
        "\n",
        "                            <td><ul>\n",
        "                                <li>Enable client-side scripting</li>\n",
        "                                <li>Wide range of libraries and frameworks</li>\n",
        "                                <li>Support for asynchronous programming</li>\n",
        "                            </ul></td>\n",
        "                        </tr></table>\n",
        "                        </ol>\n",
        "                        </div>\n",
        "                        </body>\n",
        "                        </html>"
      ],
      "metadata": {
        "id": "q4E-Qw_RPDlg"
      },
      "execution_count": null,
      "outputs": []
    },
    {
      "cell_type": "markdown",
      "source": [
        "Question-7"
      ],
      "metadata": {
        "id": "bPxpnMm4Tl3m"
      }
    },
    {
      "cell_type": "code",
      "source": [
        "'''Ques-7- Build a complex nested list structure representing a multi-level table of contents. Use unordered lists\n",
        "(<ul>) and list items (<li>) with inline-block styling to create a structured layout. Apply formatting tags to\n",
        "enhance the presentation of list items'''\n",
        "<html>\n",
        "<head>\n",
        "    <title>aman_M4</title>\n",
        "</head>\n",
        "<body style=\"color:blue;\">\n",
        "    <DIV style=\"border: solid 2px; width: 30%;\">\n",
        "        <h1>Table of contents\n",
        "        </h1>\n",
        "        <u>\n",
        "        <ul style=\"list-style-type:disc padding:2;\">\n",
        "            <li> part1: Introduction</li>\n",
        "            <li>Part2:Getting Started</li>\n",
        "            <ul style=\"list-style-type:circle padding:2;\">\n",
        "                <li>2.1 Instaalling the software</li>\n",
        "                <li> Creating a new projexct </li>\n",
        "                <ul style=\"list-style-type:square padding=2;\">\n",
        "                    <li>2.2.1Project templates</li>\n",
        "                    <li>2.2.2customising settings</li>\n",
        "                </ul>\n",
        "                <li>2.3 Exploring the Interface</li>\n",
        "                <ul style=\"list-style-type:square padding:2;\">\n",
        "                    <li>2.3.1 Toolbar features</li>\n",
        "                    <li>2.3.2 Panel Layout</li>\n",
        "                    <ul style=\"list-style-type:square;\">\n",
        "                        <li>2.3.2.1 Docking Pannels</li>\n",
        "                        <li>2.3.2.2 Tabbed interface</li>\n",
        "                    </ul>\n",
        "                </ul>\n",
        "\n",
        "            </ul>\n",
        "            <li>part3: Advanve topic</li>\n",
        "            <ul style=\"list-style-type:circle padding:2;\">\n",
        "                <li>3.1 Working with plugins</li>\n",
        "                    <ul style=\"list-style-type:square padding:2;\">\n",
        "                        <li>3.1.1 Installing plugins\n",
        "                        </li>\n",
        "                        <li>3.1.2 pluging configuration</li>\n",
        "                    </ul>\n",
        "                <li>3.2 Customizing the UI</li>\n",
        "                <ul style=\"list-style-type:square padding:2;\">\n",
        "                    <li>3.2.1 Changing theme</li>\n",
        "                    <li>3.2.2 configuring Shortcuts</li>\n",
        "                </ul>\n",
        "                <li>3.3 Optimizing Performance</li>\n",
        "                <ul style=\"list-style-type:square padding:2;\">\n",
        "                    <li>3.3.1 Caching Memory</li>\n",
        "                    <li>3.3.2 Resource Minification</li>\n",
        "                </ul>\n",
        "            </ul>\n",
        "\n",
        "            <li>part4: Conclusion</li>\n",
        "\n",
        "        </ul>\n",
        "    </DIV>\n",
        "</body>\n",
        "</html>"
      ],
      "metadata": {
        "colab": {
          "base_uri": "https://localhost:8080/",
          "height": 106
        },
        "id": "QPVxINASPa5t",
        "outputId": "d2668dc0-0550-48fc-c447-6f9faf7fa718"
      },
      "execution_count": 2,
      "outputs": [
        {
          "output_type": "error",
          "ename": "SyntaxError",
          "evalue": "invalid decimal literal (<ipython-input-2-f6f7d1ea6487>, line 20)",
          "traceback": [
            "\u001b[0;36m  File \u001b[0;32m\"<ipython-input-2-f6f7d1ea6487>\"\u001b[0;36m, line \u001b[0;32m20\u001b[0m\n\u001b[0;31m    <li>2.2.1Project templates</li>\u001b[0m\n\u001b[0m            ^\u001b[0m\n\u001b[0;31mSyntaxError\u001b[0m\u001b[0;31m:\u001b[0m invalid decimal literal\n"
          ]
        }
      ]
    },
    {
      "cell_type": "markdown",
      "source": [
        "question -8-"
      ],
      "metadata": {
        "id": "Sxn6P0wZTpml"
      }
    },
    {
      "cell_type": "code",
      "source": [
        "'''Ques-8-'''\n",
        "<html>\n",
        "    <head>\n",
        "        <style>\n",
        "            body{\n",
        "                border: 2px solid #444;\n",
        "                padding: 20px;\n",
        "                margin: 20px;\n",
        "                width: 500px;\n",
        "            }\n",
        "            td{\n",
        "\n",
        "                width: auto;\n",
        "            }\n",
        "        </style>\n",
        "    </head>\n",
        "    <body>\n",
        "        <h2>Conference Schedule</h2>\n",
        "        <table border=1 cellpadding=2 width=auto>\n",
        "            <tr>\n",
        "                <th>Time</th>\n",
        "                <th>Room 1</th>\n",
        "                <th>Room 2</th>\n",
        "                <th>Room 3</th>\n",
        "                <th>Room 4</th>\n",
        "            </tr>\n",
        "            <tr>\n",
        "                <td rowspan=\"3\">9:00 AM - 10:00 AM</td>\n",
        "                <td rowspan=\"2\">Keynote</td>\n",
        "                <td>Session A</td>\n",
        "                <td>Session B</td>\n",
        "                <td rowspan=\"3\">Session C</td>\n",
        "            </tr>\n",
        "            <tr>\n",
        "               <td>Session D</td>\n",
        "               <td>Session E</td>\n",
        "            </tr>\n",
        "            <tr>\n",
        "            <td>10:30 AM - 11:30 AM</td>\n",
        "            <td colspan=\"2\">Session F</td>\n",
        "            </tr>\n",
        "            <tr>\n",
        "                <td>12:00 PM - 2:00 PM</td>\n",
        "                <td colspan=\"4\">Lunch Break</td>\n",
        "            </tr>\n",
        "            <tr>\n",
        "                <td rowspan=\"2\">1:00 PM - 2:00 PM</td>\n",
        "                <td>Session G</td>\n",
        "                <td rowspan=\"2\">Session H</td>\n",
        "                <td>Session I</td>\n",
        "                <td>Session J</td>\n",
        "            </tr>\n",
        "            <tr>\n",
        "                <td>Session K</td>\n",
        "                <td>Session L</td>\n",
        "                <td>Session M</td>\n",
        "            </tr>\n",
        "        </table>\n",
        "    </body>\n",
        "    </html>\n"
      ],
      "metadata": {
        "id": "_tqCprSoTFpp"
      },
      "execution_count": null,
      "outputs": []
    }
  ]
}